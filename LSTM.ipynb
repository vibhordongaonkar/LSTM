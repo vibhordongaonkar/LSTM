{
 "cells": [
  {
   "cell_type": "code",
   "execution_count": 65,
   "metadata": {
    "collapsed": false
   },
   "outputs": [
    {
     "ename": "ImportError",
     "evalue": "cannot import name 'RNN'",
     "output_type": "error",
     "traceback": [
      "\u001b[0;31m---------------------------------------------------------------------------\u001b[0m",
      "\u001b[0;31mImportError\u001b[0m                               Traceback (most recent call last)",
      "\u001b[0;32m<ipython-input-65-e2db6685b9ca>\u001b[0m in \u001b[0;36m<module>\u001b[0;34m()\u001b[0m\n\u001b[1;32m      3\u001b[0m \u001b[1;33m\u001b[0m\u001b[0m\n\u001b[1;32m      4\u001b[0m \u001b[1;32mfrom\u001b[0m \u001b[0mkeras\u001b[0m\u001b[1;33m.\u001b[0m\u001b[0mmodels\u001b[0m \u001b[1;32mimport\u001b[0m \u001b[0mSequential\u001b[0m\u001b[1;33m\u001b[0m\u001b[0m\n\u001b[0;32m----> 5\u001b[0;31m \u001b[1;32mfrom\u001b[0m \u001b[0mkeras\u001b[0m\u001b[1;33m.\u001b[0m\u001b[0mlayers\u001b[0m \u001b[1;32mimport\u001b[0m \u001b[0mDense\u001b[0m\u001b[1;33m,\u001b[0m \u001b[0mLSTM\u001b[0m\u001b[1;33m,\u001b[0m \u001b[0mDropout\u001b[0m\u001b[1;33m,\u001b[0m \u001b[0mActivation\u001b[0m\u001b[1;33m,\u001b[0m \u001b[0mRNN\u001b[0m\u001b[1;33m\u001b[0m\u001b[0m\n\u001b[0m\u001b[1;32m      6\u001b[0m \u001b[1;32mfrom\u001b[0m \u001b[0msklearn\u001b[0m\u001b[1;33m.\u001b[0m\u001b[0mpreprocessing\u001b[0m \u001b[1;32mimport\u001b[0m \u001b[0mMinMaxScaler\u001b[0m\u001b[1;33m\u001b[0m\u001b[0m\n\u001b[1;32m      7\u001b[0m \u001b[1;33m\u001b[0m\u001b[0m\n",
      "\u001b[0;31mImportError\u001b[0m: cannot import name 'RNN'"
     ]
    }
   ],
   "source": [
    "import numpy as np\n",
    "import pandas as pd\n",
    "\n",
    "from keras.models import Sequential\n",
    "from keras.layers import Dense, LSTM, Dropout, Activation\n",
    "from sklearn.preprocessing import MinMaxScaler\n",
    "\n",
    "import matplotlib.pyplot as plt\n",
    "\n",
    "import theano\n",
    "from numpy import genfromtxt"
   ]
  },
  {
   "cell_type": "code",
   "execution_count": 5,
   "metadata": {
    "collapsed": false
   },
   "outputs": [],
   "source": [
    "%matplotlib inline\n",
    "import math\n",
    "from sklearn.metrics import mean_squared_error"
   ]
  },
  {
   "cell_type": "code",
   "execution_count": 6,
   "metadata": {
    "collapsed": false
   },
   "outputs": [],
   "source": [
    "my_data = pd.read_csv('slot_series.csv')"
   ]
  },
  {
   "cell_type": "code",
   "execution_count": 7,
   "metadata": {
    "collapsed": false
   },
   "outputs": [],
   "source": [
    "time_series_data = {}"
   ]
  },
  {
   "cell_type": "code",
   "execution_count": 8,
   "metadata": {
    "collapsed": false
   },
   "outputs": [],
   "source": [
    "for i in my_data.slots.unique():\n",
    "    time_series_data[i] = my_data[my_data.slots==i]"
   ]
  },
  {
   "cell_type": "code",
   "execution_count": 9,
   "metadata": {
    "collapsed": false
   },
   "outputs": [
    {
     "data": {
      "text/plain": [
       "array([ 2,  3,  4,  5,  6,  7,  8,  9, 10, 11, 12,  1], dtype=int64)"
      ]
     },
     "execution_count": 9,
     "metadata": {},
     "output_type": "execute_result"
    }
   ],
   "source": [
    "my_data.slots.unique()"
   ]
  },
  {
   "cell_type": "code",
   "execution_count": 10,
   "metadata": {
    "collapsed": false
   },
   "outputs": [
    {
     "name": "stdout",
     "output_type": "stream",
     "text": [
      "(255, 13)\n",
      "(409, 13)\n",
      "(385, 13)\n",
      "(392, 13)\n",
      "(379, 13)\n",
      "(351, 13)\n",
      "(374, 13)\n",
      "(414, 13)\n",
      "(390, 13)\n",
      "(421, 13)\n",
      "(288, 13)\n",
      "(525, 13)\n"
     ]
    }
   ],
   "source": [
    "for i in my_data.slots.unique():\n",
    "    print(time_series_data[i].shape)"
   ]
  },
  {
   "cell_type": "code",
   "execution_count": 11,
   "metadata": {
    "collapsed": false
   },
   "outputs": [
    {
     "data": {
      "text/plain": [
       "1     525\n",
       "11    421\n",
       "9     414\n",
       "3     409\n",
       "5     392\n",
       "10    390\n",
       "4     385\n",
       "6     379\n",
       "8     374\n",
       "7     351\n",
       "12    288\n",
       "2     255\n",
       "Name: slots, dtype: int64"
      ]
     },
     "execution_count": 11,
     "metadata": {},
     "output_type": "execute_result"
    }
   ],
   "source": [
    "my_data.slots.value_counts()"
   ]
  },
  {
   "cell_type": "code",
   "execution_count": 16,
   "metadata": {
    "collapsed": false
   },
   "outputs": [],
   "source": [
    "ts1=time_series_data[11][['Date','slots','impressions']]"
   ]
  },
  {
   "cell_type": "code",
   "execution_count": 17,
   "metadata": {
    "collapsed": true
   },
   "outputs": [],
   "source": [
    "TS1=ts1.groupby('Date').mean().reset_index()"
   ]
  },
  {
   "cell_type": "code",
   "execution_count": 18,
   "metadata": {
    "collapsed": false
   },
   "outputs": [],
   "source": [
    "TS1['Date']=pd.to_datetime(TS1['Date'], format='%m/%d/%Y')"
   ]
  },
  {
   "cell_type": "code",
   "execution_count": 19,
   "metadata": {
    "collapsed": false
   },
   "outputs": [
    {
     "data": {
      "text/html": [
       "<div>\n",
       "<table border=\"1\" class=\"dataframe\">\n",
       "  <thead>\n",
       "    <tr style=\"text-align: right;\">\n",
       "      <th></th>\n",
       "      <th>Date</th>\n",
       "      <th>slots</th>\n",
       "      <th>impressions</th>\n",
       "    </tr>\n",
       "  </thead>\n",
       "  <tbody>\n",
       "    <tr>\n",
       "      <th>0</th>\n",
       "      <td>2016-01-01</td>\n",
       "      <td>11</td>\n",
       "      <td>2.49</td>\n",
       "    </tr>\n",
       "    <tr>\n",
       "      <th>1</th>\n",
       "      <td>2016-01-10</td>\n",
       "      <td>11</td>\n",
       "      <td>10.55</td>\n",
       "    </tr>\n",
       "    <tr>\n",
       "      <th>2</th>\n",
       "      <td>2016-01-11</td>\n",
       "      <td>11</td>\n",
       "      <td>38.40</td>\n",
       "    </tr>\n",
       "    <tr>\n",
       "      <th>3</th>\n",
       "      <td>2016-01-12</td>\n",
       "      <td>11</td>\n",
       "      <td>3.58</td>\n",
       "    </tr>\n",
       "    <tr>\n",
       "      <th>4</th>\n",
       "      <td>2016-01-13</td>\n",
       "      <td>11</td>\n",
       "      <td>3.12</td>\n",
       "    </tr>\n",
       "  </tbody>\n",
       "</table>\n",
       "</div>"
      ],
      "text/plain": [
       "        Date  slots  impressions\n",
       "0 2016-01-01     11         2.49\n",
       "1 2016-01-10     11        10.55\n",
       "2 2016-01-11     11        38.40\n",
       "3 2016-01-12     11         3.58\n",
       "4 2016-01-13     11         3.12"
      ]
     },
     "execution_count": 19,
     "metadata": {},
     "output_type": "execute_result"
    }
   ],
   "source": [
    "TS1.head()"
   ]
  },
  {
   "cell_type": "code",
   "execution_count": 20,
   "metadata": {
    "collapsed": false
   },
   "outputs": [
    {
     "name": "stderr",
     "output_type": "stream",
     "text": [
      "C:\\Users\\Lighthouse\\Anaconda3\\lib\\site-packages\\ipykernel\\__main__.py:1: FutureWarning: sort(columns=....) is deprecated, use sort_values(by=.....)\n",
      "  if __name__ == '__main__':\n"
     ]
    }
   ],
   "source": [
    " TS1=TS1.sort('Date')"
   ]
  },
  {
   "cell_type": "code",
   "execution_count": 21,
   "metadata": {
    "collapsed": false
   },
   "outputs": [
    {
     "data": {
      "text/html": [
       "<div>\n",
       "<table border=\"1\" class=\"dataframe\">\n",
       "  <thead>\n",
       "    <tr style=\"text-align: right;\">\n",
       "      <th></th>\n",
       "      <th>Date</th>\n",
       "      <th>slots</th>\n",
       "      <th>impressions</th>\n",
       "    </tr>\n",
       "  </thead>\n",
       "  <tbody>\n",
       "    <tr>\n",
       "      <th>32</th>\n",
       "      <td>2015-10-10</td>\n",
       "      <td>11</td>\n",
       "      <td>11.83</td>\n",
       "    </tr>\n",
       "    <tr>\n",
       "      <th>34</th>\n",
       "      <td>2015-10-11</td>\n",
       "      <td>11</td>\n",
       "      <td>1.33</td>\n",
       "    </tr>\n",
       "    <tr>\n",
       "      <th>36</th>\n",
       "      <td>2015-10-12</td>\n",
       "      <td>11</td>\n",
       "      <td>2.59</td>\n",
       "    </tr>\n",
       "    <tr>\n",
       "      <th>38</th>\n",
       "      <td>2015-10-13</td>\n",
       "      <td>11</td>\n",
       "      <td>26.93</td>\n",
       "    </tr>\n",
       "    <tr>\n",
       "      <th>40</th>\n",
       "      <td>2015-10-14</td>\n",
       "      <td>11</td>\n",
       "      <td>11.42</td>\n",
       "    </tr>\n",
       "  </tbody>\n",
       "</table>\n",
       "</div>"
      ],
      "text/plain": [
       "         Date  slots  impressions\n",
       "32 2015-10-10     11        11.83\n",
       "34 2015-10-11     11         1.33\n",
       "36 2015-10-12     11         2.59\n",
       "38 2015-10-13     11        26.93\n",
       "40 2015-10-14     11        11.42"
      ]
     },
     "execution_count": 21,
     "metadata": {},
     "output_type": "execute_result"
    }
   ],
   "source": [
    "TS1.head()"
   ]
  },
  {
   "cell_type": "code",
   "execution_count": 22,
   "metadata": {
    "collapsed": false
   },
   "outputs": [],
   "source": [
    "ts2=TS1[TS1.Date<='2016-10-17']"
   ]
  },
  {
   "cell_type": "code",
   "execution_count": 23,
   "metadata": {
    "collapsed": true
   },
   "outputs": [],
   "source": [
    "train_size=len(ts2[ts2.Date<='2016-09-12'])\n",
    "test_size=len(ts2[ts2.Date>'2016-09-12'])"
   ]
  },
  {
   "cell_type": "code",
   "execution_count": 25,
   "metadata": {
    "collapsed": true
   },
   "outputs": [],
   "source": [
    "ts_data=ts2.impressions\n",
    "ts_data=ts_data[:,None]"
   ]
  },
  {
   "cell_type": "code",
   "execution_count": 26,
   "metadata": {
    "collapsed": false
   },
   "outputs": [],
   "source": [
    "scaler = MinMaxScaler(feature_range=(0, 1))\n",
    "ts_data =  scaler.fit_transform(ts_data)"
   ]
  },
  {
   "cell_type": "code",
   "execution_count": 27,
   "metadata": {
    "collapsed": true
   },
   "outputs": [],
   "source": [
    "train1=ts_data[0:train_size]"
   ]
  },
  {
   "cell_type": "code",
   "execution_count": 28,
   "metadata": {
    "collapsed": true
   },
   "outputs": [],
   "source": [
    "test1=ts_data[train_size:train_size+test_size]"
   ]
  },
  {
   "cell_type": "code",
   "execution_count": 29,
   "metadata": {
    "collapsed": false
   },
   "outputs": [
    {
     "data": {
      "text/plain": [
       "[<matplotlib.lines.Line2D at 0x1f4d04f95c0>]"
      ]
     },
     "execution_count": 29,
     "metadata": {},
     "output_type": "execute_result"
    },
    {
     "data": {
      "image/png": "[encoded data removed]",
      "text/plain": [
       "<matplotlib.figure.Figure at 0x1f4d00ecb00>"
      ]
     },
     "metadata": {},
     "output_type": "display_data"
    }
   ],
   "source": [
    "plt.plot(train1)"
   ]
  },
  {
   "cell_type": "code",
   "execution_count": 30,
   "metadata": {
    "collapsed": false
   },
   "outputs": [
    {
     "data": {
      "text/plain": [
       "[<matplotlib.lines.Line2D at 0x1f4d059d518>]"
      ]
     },
     "execution_count": 30,
     "metadata": {},
     "output_type": "execute_result"
    },
    {
     "data": {
      "image/png": "[encoded data removed]",
      "text/plain": [
       "<matplotlib.figure.Figure at 0x1f4d0115588>"
      ]
     },
     "metadata": {},
     "output_type": "display_data"
    }
   ],
   "source": [
    "plt.plot(test1)"
   ]
  },
  {
   "cell_type": "code",
   "execution_count": 31,
   "metadata": {
    "collapsed": true
   },
   "outputs": [],
   "source": [
    "# convert an array of values into a dataset matrix\n",
    "def create_dataset(dataset, look_back=1):\n",
    "    dataX, dataY = [], []\n",
    "    for i in range(len(dataset)-look_back):\n",
    "        dataX.append(dataset[i:(i+look_back), 0])\n",
    "        dataY.append(dataset[i + look_back, 0])\n",
    "    return np.array(dataX), np.array(dataY)"
   ]
  },
  {
   "cell_type": "code",
   "execution_count": 32,
   "metadata": {
    "collapsed": true
   },
   "outputs": [],
   "source": [
    "look_back=50\n",
    "trainX, trainY = create_dataset(train1, look_back)"
   ]
  },
  {
   "cell_type": "code",
   "execution_count": 34,
   "metadata": {
    "collapsed": false
   },
   "outputs": [
    {
     "data": {
      "text/plain": [
       "(286, 50)"
      ]
     },
     "execution_count": 34,
     "metadata": {},
     "output_type": "execute_result"
    }
   ],
   "source": [
    "trainX.shape"
   ]
  },
  {
   "cell_type": "code",
   "execution_count": 36,
   "metadata": {
    "collapsed": false
   },
   "outputs": [],
   "source": [
    "# reshape input to be [samples, time steps, features]\n",
    "trainX = np.reshape(trainX, (trainX.shape[0], trainX.shape[1], 1))\n"
   ]
  },
  {
   "cell_type": "code",
   "execution_count": 37,
   "metadata": {
    "collapsed": false
   },
   "outputs": [
    {
     "data": {
      "text/plain": [
       "(286, 50, 1)"
      ]
     },
     "execution_count": 37,
     "metadata": {},
     "output_type": "execute_result"
    }
   ],
   "source": [
    "trainX.shape"
   ]
  },
  {
   "cell_type": "code",
   "execution_count": 66,
   "metadata": {
    "collapsed": false
   },
   "outputs": [
    {
     "name": "stdout",
     "output_type": "stream",
     "text": [
      "Epoch 1/100\n",
      "3s - loss: 0.3458\n",
      "Epoch 2/100\n",
      "1s - loss: 0.0436\n",
      "Epoch 3/100\n",
      "1s - loss: 0.0372\n",
      "Epoch 4/100\n",
      "1s - loss: 0.0343\n",
      "Epoch 5/100\n",
      "1s - loss: 0.0387\n",
      "Epoch 6/100\n",
      "1s - loss: 0.0345\n",
      "Epoch 7/100\n",
      "1s - loss: 0.0274\n",
      "Epoch 8/100\n",
      "1s - loss: 0.0250\n",
      "Epoch 9/100\n",
      "1s - loss: 0.0257\n",
      "Epoch 10/100\n",
      "1s - loss: 0.0251\n",
      "Epoch 11/100\n",
      "1s - loss: 0.0437\n",
      "Epoch 12/100\n",
      "1s - loss: 0.0400\n",
      "Epoch 13/100\n",
      "1s - loss: 0.0322\n",
      "Epoch 14/100\n",
      "1s - loss: 0.0296\n",
      "Epoch 15/100\n",
      "1s - loss: 0.0271\n",
      "Epoch 16/100\n",
      "1s - loss: 0.0250\n",
      "Epoch 17/100\n",
      "1s - loss: 0.0241\n",
      "Epoch 18/100\n",
      "1s - loss: 0.0239\n",
      "Epoch 19/100\n",
      "1s - loss: 0.0239\n",
      "Epoch 20/100\n",
      "1s - loss: 0.0349\n",
      "Epoch 21/100\n",
      "1s - loss: 0.0955\n",
      "Epoch 22/100\n",
      "1s - loss: 0.0276\n",
      "Epoch 23/100\n",
      "1s - loss: 0.0312\n",
      "Epoch 24/100\n",
      "1s - loss: 0.0266\n",
      "Epoch 25/100\n",
      "1s - loss: 0.0240\n",
      "Epoch 26/100\n",
      "1s - loss: 0.0245\n",
      "Epoch 27/100\n",
      "1s - loss: 0.0343\n",
      "Epoch 28/100\n",
      "1s - loss: 0.0313\n",
      "Epoch 29/100\n",
      "1s - loss: 0.0252\n",
      "Epoch 30/100\n",
      "1s - loss: 0.0278\n",
      "Epoch 31/100\n",
      "1s - loss: 0.0282\n",
      "Epoch 32/100\n",
      "1s - loss: 0.0219\n",
      "Epoch 33/100\n",
      "1s - loss: 0.0285\n",
      "Epoch 34/100\n",
      "1s - loss: 0.0354\n",
      "Epoch 35/100\n",
      "1s - loss: 0.0233\n",
      "Epoch 36/100\n",
      "1s - loss: 0.0274\n",
      "Epoch 37/100\n",
      "1s - loss: 0.0261\n",
      "Epoch 38/100\n",
      "1s - loss: 0.0249\n",
      "Epoch 39/100\n",
      "1s - loss: 0.0242\n",
      "Epoch 40/100\n",
      "1s - loss: 0.0303\n",
      "Epoch 41/100\n",
      "1s - loss: 0.0225\n",
      "Epoch 42/100\n",
      "1s - loss: 0.0254\n",
      "Epoch 43/100\n",
      "1s - loss: 0.0279\n",
      "Epoch 44/100\n",
      "1s - loss: 0.0219\n",
      "Epoch 45/100\n",
      "1s - loss: 0.0228\n",
      "Epoch 46/100\n",
      "1s - loss: 0.0221\n",
      "Epoch 47/100\n",
      "1s - loss: 0.0226\n",
      "Epoch 48/100\n",
      "1s - loss: 0.0226\n",
      "Epoch 49/100\n",
      "1s - loss: 0.0227\n",
      "Epoch 50/100\n",
      "1s - loss: 0.0223\n",
      "Epoch 51/100\n",
      "1s - loss: 0.0227\n",
      "Epoch 52/100\n",
      "1s - loss: 0.0261\n",
      "Epoch 53/100\n",
      "1s - loss: 0.0234\n",
      "Epoch 54/100\n",
      "1s - loss: 0.0226\n",
      "Epoch 55/100\n",
      "1s - loss: 0.0225\n",
      "Epoch 56/100\n",
      "1s - loss: 0.0255\n",
      "Epoch 57/100\n",
      "1s - loss: 0.0217\n",
      "Epoch 58/100\n",
      "1s - loss: 0.0225\n",
      "Epoch 59/100\n",
      "1s - loss: 0.0227\n",
      "Epoch 60/100\n",
      "1s - loss: 0.0221\n",
      "Epoch 61/100\n",
      "1s - loss: 0.0220\n",
      "Epoch 62/100\n",
      "1s - loss: 0.0241\n",
      "Epoch 63/100\n",
      "1s - loss: 0.0225\n",
      "Epoch 64/100\n",
      "1s - loss: 0.0220\n",
      "Epoch 65/100\n",
      "1s - loss: 0.0223\n",
      "Epoch 66/100\n",
      "1s - loss: 0.0220\n",
      "Epoch 67/100\n",
      "1s - loss: 0.0219\n",
      "Epoch 68/100\n",
      "1s - loss: 0.0213\n",
      "Epoch 69/100\n",
      "1s - loss: 0.0242\n",
      "Epoch 70/100\n",
      "1s - loss: 0.0248\n",
      "Epoch 71/100\n",
      "1s - loss: 0.0231\n",
      "Epoch 72/100\n",
      "1s - loss: 0.0216\n",
      "Epoch 73/100\n",
      "1s - loss: 0.0226\n",
      "Epoch 74/100\n",
      "1s - loss: 0.0225\n",
      "Epoch 75/100\n",
      "1s - loss: 0.0229\n",
      "Epoch 76/100\n",
      "1s - loss: 0.0225\n",
      "Epoch 77/100\n",
      "1s - loss: 0.0223\n",
      "Epoch 78/100\n",
      "1s - loss: 0.0218\n",
      "Epoch 79/100\n",
      "1s - loss: 0.0219\n",
      "Epoch 80/100\n",
      "1s - loss: 0.0233\n",
      "Epoch 81/100\n",
      "1s - loss: 0.0228\n",
      "Epoch 82/100\n",
      "1s - loss: 0.0217\n",
      "Epoch 83/100\n",
      "1s - loss: 0.0218\n",
      "Epoch 84/100\n",
      "1s - loss: 0.0219\n",
      "Epoch 85/100\n",
      "1s - loss: 0.0226\n",
      "Epoch 86/100\n",
      "1s - loss: 0.0220\n",
      "Epoch 87/100\n",
      "1s - loss: 0.0220\n",
      "Epoch 88/100\n",
      "1s - loss: 0.0223\n",
      "Epoch 89/100\n",
      "1s - loss: 0.0219\n",
      "Epoch 90/100\n",
      "1s - loss: 0.0248\n",
      "Epoch 91/100\n",
      "1s - loss: 0.0220\n",
      "Epoch 92/100\n",
      "1s - loss: 0.0227\n",
      "Epoch 93/100\n",
      "1s - loss: 0.0223\n",
      "Epoch 94/100\n",
      "1s - loss: 0.0226\n",
      "Epoch 95/100\n",
      "1s - loss: 0.0235\n",
      "Epoch 96/100\n",
      "1s - loss: 0.0217\n",
      "Epoch 97/100\n",
      "1s - loss: 0.0231\n",
      "Epoch 98/100\n",
      "1s - loss: 0.0226\n",
      "Epoch 99/100\n",
      "1s - loss: 0.0219\n",
      "Epoch 100/100\n",
      "1s - loss: 0.0224\n",
      "Wall time: 2min 37s\n"
     ]
    }
   ],
   "source": [
    "%%time\n",
    "theano.config.compute_test_value = \"ignore\"\n",
    "# create and fit the LSTM network\n",
    "batch_size = 128\n",
    "model = Sequential()\n",
    "model.add(LSTM(input_dim=1,output_dim=50,return_sequences=True))\n",
    "model.add(Dropout(0.2))\n",
    "model.add(LSTM(100,return_sequences=True))\n",
    "model.add(Dropout(0.2))\n",
    "model.add(LSTM(50))\n",
    "model.add(Dropout(0.2))\n",
    "model.add(Dense(output_dim=1))\n",
    "model.add(Activation(\"linear\"))\n",
    "model.compile(loss='mean_squared_error', optimizer='rmsprop')\n",
    "model.fit(trainX, trainY, nb_epoch=100, batch_size=batch_size, verbose=2)"
   ]
  },
  {
   "cell_type": "code",
   "execution_count": 67,
   "metadata": {
    "collapsed": false
   },
   "outputs": [],
   "source": [
    "look_ahead = test_size\n",
    "trainPredict = [np.vstack([trainX[-1][1:], trainY[-1]])]\n",
    "predictions = np.zeros((look_ahead,1))\n",
    "for i in range(look_ahead):\n",
    "    prediction = model.predict(np.array([trainPredict[-1]]), batch_size=batch_size)\n",
    "    predictions[i] = prediction\n",
    "    trainPredict.append(np.vstack([trainPredict[-1][1:],prediction]))"
   ]
  },
  {
   "cell_type": "code",
   "execution_count": 68,
   "metadata": {
    "collapsed": false
   },
   "outputs": [
    {
     "data": {
      "image/png": "[encoded data removed]",
      "text/plain": [
       "<matplotlib.figure.Figure at 0x1f4e6155080>"
      ]
     },
     "metadata": {},
     "output_type": "display_data"
    }
   ],
   "source": [
    "plt.figure(figsize=(12,5))\n",
    "# plt.plot(np.arange(len(trainX)),np.squeeze(trainX))\n",
    "# plt.plot(np.arange(200),scaler.inverse_transform(np.squeeze(trainPredict)[:,None][1:]))\n",
    "# plt.plot(np.arange(200),scaler.inverse_transform(np.squeeze(testY)[:,None][:200]),'r')\n",
    "plt.plot(np.arange(look_ahead),predictions,'r',label=\"prediction\")\n",
    "plt.plot(np.arange(look_ahead),ts_data[train_size:(train_size+look_ahead)],label=\"test function\")\n",
    "plt.legend()\n",
    "plt.show()"
   ]
  },
  {
   "cell_type": "code",
   "execution_count": 69,
   "metadata": {
    "collapsed": false
   },
   "outputs": [
    {
     "data": {
      "image/png": "[encoded data removed]",
      "text/plain": [
       "<matplotlib.figure.Figure at 0x1f4e6d57390>"
      ]
     },
     "metadata": {},
     "output_type": "display_data"
    }
   ],
   "source": [
    "Predict_1 = scaler.inverse_transform(predictions)\n",
    "test_1 = scaler.inverse_transform(ts_data[train_size:(train_size+look_ahead)])\n",
    "\n",
    "plt.figure(figsize=(12,5))\n",
    "# plt.plot(np.arange(len(trainX)),np.squeeze(trainX))\n",
    "# plt.plot(np.arange(200),scaler.inverse_transform(np.squeeze(trainPredict)[:,None][1:]))\n",
    "# plt.plot(np.arange(200),scaler.inverse_transform(np.squeeze(testY)[:,None][:200]),'r')\n",
    "plt.plot(np.arange(look_ahead),Predict_1,'r',label=\"prediction\")\n",
    "plt.plot(np.arange(look_ahead),test_1,label=\"test function\")\n",
    "plt.legend()\n",
    "plt.show()"
   ]
  },
  {
   "cell_type": "code",
   "execution_count": 70,
   "metadata": {
    "collapsed": false
   },
   "outputs": [
    {
     "name": "stdout",
     "output_type": "stream",
     "text": [
      "Test Score: 7.47 RMSE\n"
     ]
    }
   ],
   "source": [
    "testScore = math.sqrt(mean_squared_error(test_1, Predict_1))\n",
    "print('Test Score: %.2f RMSE' % (testScore))"
   ]
  },
  {
   "cell_type": "code",
   "execution_count": 71,
   "metadata": {
    "collapsed": false
   },
   "outputs": [
    {
     "data": {
      "text/plain": [
       "204.30145845920285"
      ]
     },
     "execution_count": 71,
     "metadata": {},
     "output_type": "execute_result"
    }
   ],
   "source": [
    "np.mean(np.abs((test_1.ravel() - Predict_1.ravel()) / test_1.ravel())) * 100"
   ]
  },
  {
   "cell_type": "code",
   "execution_count": null,
   "metadata": {
    "collapsed": true
   },
   "outputs": [],
   "source": []
  },
  {
   "cell_type": "code",
   "execution_count": null,
   "metadata": {
    "collapsed": true
   },
   "outputs": [],
   "source": []
  }
 ],
 "metadata": {
  "anaconda-cloud": {},
  "kernelspec": {
   "display_name": "Python [conda root]",
   "language": "python",
   "name": "conda-root-py"
  },
  "language_info": {
   "codemirror_mode": {
    "name": "ipython",
    "version": 3
   },
   "file_extension": ".py",
   "mimetype": "text/x-python",
   "name": "python",
   "nbconvert_exporter": "python",
   "pygments_lexer": "ipython3",
   "version": "3.5.2"
  }
 },
 "nbformat": 4,
 "nbformat_minor": 1
}
